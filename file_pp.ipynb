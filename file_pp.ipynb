{
 "cells": [
  {
   "cell_type": "code",
   "execution_count": 1,
   "metadata": {},
   "outputs": [],
   "source": [
    "def check_tempo(path):\n",
    "    with open(path, 'rb') as f:\n",
    "        nums = f.read()\n",
    "        target = []\n",
    "        for i in range(150):\n",
    "            try:\n",
    "                target.append(nums[i])\n",
    "            except:\n",
    "                return\n",
    "\n",
    "        for i in range(145):\n",
    "            if target[i]==255:\n",
    "                if target[i+1]==88:\n",
    "                    if target[i+2]==4:\n",
    "                        if target[i+4]==2:\n",
    "                            del target\n",
    "                            return True"
   ]
  },
  {
   "cell_type": "code",
   "execution_count": 2,
   "metadata": {},
   "outputs": [],
   "source": [
    "import os"
   ]
  },
  {
   "cell_type": "code",
   "execution_count": 3,
   "metadata": {},
   "outputs": [
    {
     "name": "stdout",
     "output_type": "stream",
     "text": [
      "D:\\Project\\PPProcessing\\rock\n"
     ]
    }
   ],
   "source": [
    "base = os.getcwd()\n",
    "os.chdir('rock')\n",
    "print(os.getcwd())\n",
    "#a = paths[0]\n",
    "#a"
   ]
  },
  {
   "cell_type": "code",
   "execution_count": 9,
   "metadata": {},
   "outputs": [
    {
     "data": {
      "text/plain": [
       "'AbbeyRoad'"
      ]
     },
     "execution_count": 9,
     "metadata": {},
     "output_type": "execute_result"
    }
   ],
   "source": [
    "base = os.getcwd()\n",
    "paths = os.listdir(base)\n",
    "len(paths)\n",
    "paths[0]\n",
    "#os.getcwd()"
   ]
  },
  {
   "cell_type": "code",
   "execution_count": 10,
   "metadata": {},
   "outputs": [
    {
     "data": {
      "text/plain": [
       "'D:\\\\Project\\\\PPProcessing\\\\rock\\\\AbbeyRoad\\\\Because.mid'"
      ]
     },
     "execution_count": 10,
     "metadata": {},
     "output_type": "execute_result"
    }
   ],
   "source": [
    "files = os.listdir(os.path.join(base, paths[0]))\n",
    "files\n",
    "t = os.path.join(base, paths[0], files[0])\n",
    "t"
   ]
  },
  {
   "cell_type": "code",
   "execution_count": 11,
   "metadata": {},
   "outputs": [],
   "source": [
    "import shutil"
   ]
  },
  {
   "cell_type": "code",
   "execution_count": 12,
   "metadata": {},
   "outputs": [],
   "source": [
    "for path in paths:\n",
    "    files = os.listdir(os.path.join(base, path))\n",
    "    \n",
    "    for file in files:\n",
    "        t = os.path.join(base, path, file)\n",
    "        \n",
    "        if check_tempo(t):\n",
    "            shutil.copy(t, r'D:\\Project\\PPProcessing\\datasets\\MIDI\\rock\\rock_midi')\n",
    "            "
   ]
  },
  {
   "cell_type": "code",
   "execution_count": 15,
   "metadata": {},
   "outputs": [],
   "source": [
    "with open('D:\\Project\\PPProcessing\\music_list.txt','w') as f:\n",
    "    music = os.listdir(r'D:\\Project\\PPProcessing\\datasets\\rocks')\n",
    "    for i in range(len(music)):\n",
    "        f.write(music[i]+'\\n')"
   ]
  },
  {
   "cell_type": "code",
   "execution_count": null,
   "metadata": {},
   "outputs": [],
   "source": []
  }
 ],
 "metadata": {
  "kernelspec": {
   "display_name": "Python 3",
   "language": "python",
   "name": "python3"
  },
  "language_info": {
   "codemirror_mode": {
    "name": "ipython",
    "version": 3
   },
   "file_extension": ".py",
   "mimetype": "text/x-python",
   "name": "python",
   "nbconvert_exporter": "python",
   "pygments_lexer": "ipython3",
   "version": "3.6.8"
  }
 },
 "nbformat": 4,
 "nbformat_minor": 4
}
